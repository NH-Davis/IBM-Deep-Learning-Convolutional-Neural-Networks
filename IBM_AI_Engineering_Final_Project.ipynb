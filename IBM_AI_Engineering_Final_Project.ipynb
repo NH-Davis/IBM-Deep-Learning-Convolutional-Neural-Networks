{
  "cells": [
    {
      "cell_type": "markdown",
      "metadata": {
        "id": "wHJR7Cvo7zY8"
      },
      "source": [
        "<a href=\"https://cognitiveclass.ai\"><img src = \"https://s3-api.us-geo.objectstorage.softlayer.net/cf-courses-data/CognitiveClass/Logos/organization_logo/organization_logo.png\" width = 400> </a>\n",
        "\n",
        "<h1 align=center><font size = 5>Peer Review Final Assignment</font></h1>"
      ]
    },
    {
      "cell_type": "markdown",
      "metadata": {
        "id": "3TSwMeRK7zY9"
      },
      "source": [
        "## Introduction\n"
      ]
    },
    {
      "cell_type": "markdown",
      "metadata": {
        "id": "d9DM7tep7zY-"
      },
      "source": [
        "In this lab, you will build an image classifier using the VGG16 pre-trained model, and you will evaluate it and compare its performance to the model we built in the last module using the ResNet50 pre-trained model. Good luck!"
      ]
    },
    {
      "cell_type": "markdown",
      "metadata": {
        "id": "nnSaseJT7zY-"
      },
      "source": [
        "## Table of Contents\n",
        "\n",
        "<div class=\"alert alert-block alert-info\" style=\"margin-top: 20px\">\n",
        "\n",
        "<font size = 3>    \n",
        "\n",
        "1. <a href=\"#item41\">Download Data\n",
        "2. <a href=\"#item42\">Part 1</a>\n",
        "3. <a href=\"#item43\">Part 2</a>  \n",
        "4. <a href=\"#item44\">Part 3</a>  \n",
        "\n",
        "</font>\n",
        "    \n",
        "</div>"
      ]
    },
    {
      "cell_type": "markdown",
      "metadata": {
        "id": "w8A6MPUb7zY-"
      },
      "source": [
        "   "
      ]
    },
    {
      "cell_type": "markdown",
      "metadata": {
        "id": "3XCbp7yk7zY-"
      },
      "source": [
        "<a id=\"item41\"></a>"
      ]
    },
    {
      "cell_type": "markdown",
      "metadata": {
        "id": "phTC8Paf7zY_"
      },
      "source": [
        "## Download Data"
      ]
    },
    {
      "cell_type": "markdown",
      "metadata": {
        "id": "VrVvkA1G7zY_"
      },
      "source": [
        "Use the <code>wget</code> command to download the data for this assignment from here: https://s3-api.us-geo.objectstorage.softlayer.net/cf-courses-data/CognitiveClass/DL0321EN/data/concrete_data_week4.zip"
      ]
    },
    {
      "cell_type": "code",
      "source": [
        "gpu_info = !nvidia-smi\n",
        "gpu_info = '\\n'.join(gpu_info)\n",
        "if gpu_info.find('failed') >= 0:\n",
        "  print('Not connected to a GPU')\n",
        "else:\n",
        "  print(gpu_info)"
      ],
      "metadata": {
        "colab": {
          "base_uri": "https://localhost:8080/"
        },
        "id": "XinwG2DdIu99",
        "outputId": "ca60a58f-bcaa-40ec-fcb8-70c73a083e44"
      },
      "execution_count": 48,
      "outputs": [
        {
          "output_type": "stream",
          "name": "stdout",
          "text": [
            "Sun Apr 14 16:13:01 2024       \n",
            "+---------------------------------------------------------------------------------------+\n",
            "| NVIDIA-SMI 535.104.05             Driver Version: 535.104.05   CUDA Version: 12.2     |\n",
            "|-----------------------------------------+----------------------+----------------------+\n",
            "| GPU  Name                 Persistence-M | Bus-Id        Disp.A | Volatile Uncorr. ECC |\n",
            "| Fan  Temp   Perf          Pwr:Usage/Cap |         Memory-Usage | GPU-Util  Compute M. |\n",
            "|                                         |                      |               MIG M. |\n",
            "|=========================================+======================+======================|\n",
            "|   0  Tesla V100-SXM2-16GB           Off | 00000000:00:04.0 Off |                    0 |\n",
            "| N/A   37C    P0              42W / 300W |  15126MiB / 16384MiB |      0%      Default |\n",
            "|                                         |                      |                  N/A |\n",
            "+-----------------------------------------+----------------------+----------------------+\n",
            "                                                                                         \n",
            "+---------------------------------------------------------------------------------------+\n",
            "| Processes:                                                                            |\n",
            "|  GPU   GI   CI        PID   Type   Process name                            GPU Memory |\n",
            "|        ID   ID                                                             Usage      |\n",
            "|=======================================================================================|\n",
            "+---------------------------------------------------------------------------------------+\n"
          ]
        }
      ]
    },
    {
      "cell_type": "markdown",
      "metadata": {
        "id": "LeAnZPSL7zY_"
      },
      "source": [
        "Use the following cells to download the data."
      ]
    },
    {
      "cell_type": "code",
      "execution_count": 49,
      "metadata": {
        "colab": {
          "base_uri": "https://localhost:8080/"
        },
        "id": "YzaBezJN7zY_",
        "outputId": "28f71258-2caa-4c4e-a638-fd2659cae5d9"
      },
      "outputs": [
        {
          "output_type": "stream",
          "name": "stdout",
          "text": [
            "Drive already mounted at /content/drive; to attempt to forcibly remount, call drive.mount(\"/content/drive\", force_remount=True).\n",
            "File downloaded successfully.\n",
            "ZIP file extracted successfully.\n"
          ]
        }
      ],
      "source": [
        "from google.colab import drive\n",
        "import requests\n",
        "import zipfile\n",
        "\n",
        "# Mount Google Drive\n",
        "drive.mount('/content/drive')\n",
        "\n",
        "# URL of the ZIP file\n",
        "zip_url = \"https://s3-api.us-geo.objectstorage.softlayer.net/cf-courses-data/CognitiveClass/DL0321EN/data/concrete_data_week4.zip\"\n",
        "\n",
        "# Destination directory in Google Drive\n",
        "destination_dir = \"/content/drive/My Drive/\"\n",
        "\n",
        "# Download the ZIP file using requests\n",
        "response = requests.get(zip_url)\n",
        "if response.status_code == 200:\n",
        "    # Save the downloaded ZIP file to Google Drive\n",
        "    with open(destination_dir + \"concrete_data_week4.zip\", 'wb') as f:\n",
        "        f.write(response.content)\n",
        "    print(\"File downloaded successfully.\")\n",
        "\n",
        "    # Path to the downloaded ZIP file\n",
        "    zip_file_path = destination_dir + \"concrete_data_week4.zip\"\n",
        "\n",
        "    # Destination directory for extracting the ZIP file\n",
        "    extract_dir = \"/content/concrete_data_week4/\"\n",
        "\n",
        "    # Extract the contents of the ZIP file\n",
        "    with zipfile.ZipFile(zip_file_path, 'r') as zip_ref:\n",
        "        zip_ref.extractall(extract_dir)\n",
        "\n",
        "    print(\"ZIP file extracted successfully.\")\n",
        "else:\n",
        "    print(\"Error downloading the file. Status code:\", response.status_code)\n"
      ]
    },
    {
      "cell_type": "markdown",
      "metadata": {
        "id": "opJ8juUr7zY_"
      },
      "source": [
        "After you unzip the data, you fill find the data has already been divided into a train, validation, and test sets."
      ]
    },
    {
      "cell_type": "code",
      "execution_count": 3,
      "metadata": {
        "colab": {
          "base_uri": "https://localhost:8080/"
        },
        "id": "hrm0fKV2AkYm",
        "outputId": "93beedec-9baf-4daa-ce02-063d2cbc63d6"
      },
      "outputs": [
        {
          "output_type": "stream",
          "name": "stdout",
          "text": [
            "Contents of the 'concrete_data_week4' directory:\n",
            "train\n",
            "test\n",
            "valid\n",
            ".DS_Store\n"
          ]
        }
      ],
      "source": [
        "import os\n",
        "\n",
        "# Destination directory where the ZIP file was extracted\n",
        "extract_dir = \"/content/concrete_data_week4/\"\n",
        "\n",
        "# List the contents of the 'concrete_data_week4' directory\n",
        "subfolder_contents = os.listdir(extract_dir + \"concrete_data_week4/\")\n",
        "\n",
        "# Print the contents of the 'concrete_data_week4' directory\n",
        "print(\"Contents of the 'concrete_data_week4' directory:\")\n",
        "for item in subfolder_contents:\n",
        "    print(item)\n"
      ]
    },
    {
      "cell_type": "markdown",
      "metadata": {
        "id": "XUMPuCz87zY_"
      },
      "source": [
        "  "
      ]
    },
    {
      "cell_type": "markdown",
      "metadata": {
        "id": "Wkb_BM5V7zZA"
      },
      "source": [
        "<a id=\"item42\"></a>"
      ]
    },
    {
      "cell_type": "markdown",
      "metadata": {
        "id": "ZFrzQaXW7zZA"
      },
      "source": [
        "## Part 1"
      ]
    },
    {
      "cell_type": "markdown",
      "metadata": {
        "id": "hqQFW9f17zZA"
      },
      "source": [
        "In this part, you will design a classifier using the VGG16 pre-trained model. Just like the ResNet50 model, you can import the model <code>VGG16</code> from <code>keras.applications</code>."
      ]
    },
    {
      "cell_type": "markdown",
      "metadata": {
        "id": "yAjDupzG7zZA"
      },
      "source": [
        "You will essentially build your classifier as follows:\n",
        "1. Import libraries, modules, and packages you will need. Make sure to import the *preprocess_input* function from <code>keras.applications.vgg16</code>.\n",
        "2. Use a batch size of 100 images for both training and validation.\n",
        "3. Construct an ImageDataGenerator for the training set and another one for the validation set. VGG16 was originally trained on 224 × 224 images, so make sure to address that when defining the ImageDataGenerator instances.\n",
        "4. Create a sequential model using Keras. Add VGG16 model to it and dense layer.\n",
        "5. Compile the mode using the adam optimizer and the categorical_crossentropy loss function.\n",
        "6. Fit the model on the augmented data using the ImageDataGenerators."
      ]
    },
    {
      "cell_type": "markdown",
      "metadata": {
        "id": "uCiSH5BV7zZA"
      },
      "source": [
        "Use the following cells to create your classifier."
      ]
    },
    {
      "cell_type": "code",
      "execution_count": 51,
      "metadata": {
        "id": "YC2tK7PM7zZA"
      },
      "outputs": [],
      "source": [
        "from keras.applications import VGG16\n",
        "from keras.preprocessing.image import ImageDataGenerator\n",
        "from keras.models import Sequential\n",
        "from keras.layers import Dense, Flatten\n",
        "from keras.optimizers import Adam"
      ]
    },
    {
      "cell_type": "code",
      "execution_count": 52,
      "metadata": {
        "id": "hN9hTNTt7zZB"
      },
      "outputs": [],
      "source": [
        "# Import preprocess_input function from keras.applications.vgg16\n",
        "from keras.applications.vgg16 import preprocess_input"
      ]
    },
    {
      "cell_type": "code",
      "execution_count": 53,
      "metadata": {
        "id": "9WdYCsL67zZB",
        "scrolled": true
      },
      "outputs": [],
      "source": [
        "# Use a batch size of 100 images for both training and validation\n",
        "batch_size = 100"
      ]
    },
    {
      "cell_type": "code",
      "execution_count": 54,
      "metadata": {
        "id": "NMAbEJRX7zZB"
      },
      "outputs": [],
      "source": [
        "# Construct an ImageDataGenerator for the training set with augmentation\n",
        "train_datagen = ImageDataGenerator(\n",
        "    preprocessing_function=preprocess_input,  # Preprocess to match VGG16 requirements\n",
        "    shear_range=0.2,\n",
        "    zoom_range=0.2,\n",
        "    horizontal_flip=True\n",
        ")"
      ]
    },
    {
      "cell_type": "code",
      "execution_count": 55,
      "metadata": {
        "id": "BTw7jx_w7zZB"
      },
      "outputs": [],
      "source": [
        "# Construct an ImageDataGenerator for the validation set\n",
        "val_datagen = ImageDataGenerator(preprocessing_function=preprocess_input)"
      ]
    },
    {
      "cell_type": "code",
      "execution_count": 56,
      "metadata": {
        "id": "V14f4Qo27zZB"
      },
      "outputs": [],
      "source": [
        "# Create a sequential model and add VGG16 as the base model, without its top layers\n",
        "vgg_model = VGG16(weights='imagenet', include_top=False, input_shape=(224, 224, 3))\n",
        "model = Sequential([vgg_model])"
      ]
    },
    {
      "cell_type": "code",
      "execution_count": 57,
      "metadata": {
        "id": "_EysuDBS7zZB"
      },
      "outputs": [],
      "source": [
        "# Flatten the output of the VGG16 to connect it to dense layers\n",
        "model.add(Flatten())\n",
        "model.add(Dense(256, activation='relu'))  # Intermediate dense layer with relu activation\n",
        "model.add(Dense(1, activation='sigmoid'))  # Output layer for binary classification"
      ]
    },
    {
      "cell_type": "code",
      "execution_count": 58,
      "metadata": {
        "id": "E_0CEfRF7zZB"
      },
      "outputs": [],
      "source": [
        "# Compile the model with binary crossentropy loss and Adam optimizer\n",
        "model.compile(optimizer=Adam(), loss='binary_crossentropy', metrics=['accuracy'])"
      ]
    },
    {
      "cell_type": "code",
      "execution_count": 59,
      "metadata": {
        "colab": {
          "base_uri": "https://localhost:8080/"
        },
        "id": "3cC0VML7C311",
        "outputId": "a27b7d2b-1c9e-420e-bdc2-3d91ebb59340"
      },
      "outputs": [
        {
          "output_type": "stream",
          "name": "stdout",
          "text": [
            "Found 30001 images belonging to 2 classes.\n"
          ]
        }
      ],
      "source": [
        "# Fit the model on the augmented data using the ImageDataGenerators\n",
        "train_generator = train_datagen.flow_from_directory(\n",
        "    '/content/concrete_data_week4/concrete_data_week4/train',\n",
        "    target_size=(224, 224),\n",
        "    batch_size=batch_size,\n",
        "    class_mode='binary'\n",
        ")"
      ]
    },
    {
      "cell_type": "code",
      "execution_count": 60,
      "metadata": {
        "colab": {
          "base_uri": "https://localhost:8080/"
        },
        "id": "KHR_qBDbC3sm",
        "outputId": "95c5f8bd-cd0a-4e17-e5db-5e0c03dbed98"
      },
      "outputs": [
        {
          "output_type": "stream",
          "name": "stdout",
          "text": [
            "Found 9501 images belonging to 2 classes.\n"
          ]
        }
      ],
      "source": [
        "val_generator = val_datagen.flow_from_directory(\n",
        "    '/content/concrete_data_week4/concrete_data_week4/valid',\n",
        "    target_size=(224, 224),\n",
        "    batch_size=batch_size,\n",
        "    class_mode='binary'\n",
        ")"
      ]
    },
    {
      "cell_type": "code",
      "execution_count": 61,
      "metadata": {
        "colab": {
          "base_uri": "https://localhost:8080/"
        },
        "id": "MO3JhaJtC3f2",
        "outputId": "f3bda5bd-862d-489f-a62d-68fbae51db5e"
      },
      "outputs": [
        {
          "output_type": "stream",
          "name": "stdout",
          "text": [
            "Epoch 1/5\n",
            "300/300 [==============================] - 449s 1s/step - loss: 0.8724 - accuracy: 0.9561 - val_loss: 0.0449 - val_accuracy: 0.9798\n",
            "Epoch 2/5\n",
            "300/300 [==============================] - 443s 1s/step - loss: 0.0178 - accuracy: 0.9946 - val_loss: 0.0172 - val_accuracy: 0.9938\n",
            "Epoch 3/5\n",
            "300/300 [==============================] - 455s 2s/step - loss: 0.0130 - accuracy: 0.9963 - val_loss: 0.0098 - val_accuracy: 0.9966\n",
            "Epoch 4/5\n",
            "300/300 [==============================] - 447s 1s/step - loss: 0.0142 - accuracy: 0.9960 - val_loss: 0.0084 - val_accuracy: 0.9965\n",
            "Epoch 5/5\n",
            "300/300 [==============================] - 456s 2s/step - loss: 0.0090 - accuracy: 0.9976 - val_loss: 0.0187 - val_accuracy: 0.9944\n"
          ]
        }
      ],
      "source": [
        "# Use the fit method (fit_generator is deprecated in newer versions of TensorFlow)\n",
        "history = model.fit(\n",
        "    train_generator,\n",
        "    steps_per_epoch=train_generator.samples // batch_size,\n",
        "    validation_data=val_generator,\n",
        "    validation_steps=val_generator.samples // batch_size,\n",
        "    epochs=5  # Adjust number of epochs as needed\n",
        ")"
      ]
    },
    {
      "cell_type": "code",
      "source": [
        "model.save('model')  # Saves the model in HDF5 format\n"
      ],
      "metadata": {
        "id": "HqQtzUbCLXaX"
      },
      "execution_count": 62,
      "outputs": []
    },
    {
      "cell_type": "markdown",
      "metadata": {
        "id": "m6ii-7qe7zZC"
      },
      "source": [
        "## Part 2"
      ]
    },
    {
      "cell_type": "markdown",
      "metadata": {
        "id": "kOLYRaJu7zZC"
      },
      "source": [
        "In this part, you will evaluate your deep learning models on a test data. For this part, you will need to do the following:\n",
        "\n",
        "1. Load your saved model that was built using the ResNet50 model.\n",
        "2. Construct an ImageDataGenerator for the test set. For this ImageDataGenerator instance, you only need to pass the directory of the test images, target size, and the **shuffle** parameter and set it to False.\n",
        "3. Use the **evaluate_generator** method to evaluate your models on the test data, by passing the above ImageDataGenerator as an argument. You can learn more about **evaluate_generator** [here](https://keras.io/models/sequential/).\n",
        "4. Print the performance of the classifier using the VGG16 pre-trained model.\n",
        "5. Print the performance of the classifier using the ResNet pre-trained model.\n"
      ]
    },
    {
      "cell_type": "markdown",
      "metadata": {
        "id": "zZEoRxp77zZC"
      },
      "source": [
        "Use the following cells to evaluate your models."
      ]
    },
    {
      "cell_type": "code",
      "execution_count": 63,
      "metadata": {
        "id": "z6IOWsF67zZC"
      },
      "outputs": [],
      "source": [
        "from keras.preprocessing.image import ImageDataGenerator"
      ]
    },
    {
      "cell_type": "code",
      "source": [
        "from keras.models import load_model\n",
        "\n",
        "# load resnet model\n",
        "resnet_path = '/content/classifier_resnet_model.h5'\n",
        "resnet = load_model(resnet_path)\n"
      ],
      "metadata": {
        "id": "CMDgs05iRGRj"
      },
      "execution_count": 64,
      "outputs": []
    },
    {
      "cell_type": "code",
      "source": [
        "print(resnet.summary())\n"
      ],
      "metadata": {
        "colab": {
          "base_uri": "https://localhost:8080/"
        },
        "id": "NAk11HuYUIkr",
        "outputId": "1263b332-4791-4e41-e454-309175740f60"
      },
      "execution_count": 65,
      "outputs": [
        {
          "output_type": "stream",
          "name": "stdout",
          "text": [
            "Model: \"sequential\"\n",
            "_________________________________________________________________\n",
            " Layer (type)                Output Shape              Param #   \n",
            "=================================================================\n",
            " resnet50 (Functional)       (None, 2048)              23587712  \n",
            "                                                                 \n",
            " dense (Dense)               (None, 2)                 4098      \n",
            "                                                                 \n",
            "=================================================================\n",
            "Total params: 23591810 (90.00 MB)\n",
            "Trainable params: 4098 (16.01 KB)\n",
            "Non-trainable params: 23587712 (89.98 MB)\n",
            "_________________________________________________________________\n",
            "None\n"
          ]
        }
      ]
    },
    {
      "cell_type": "code",
      "source": [
        "from keras.layers import Dense\n",
        "from keras.models import Model\n",
        "\n",
        "# Remove the last layer\n",
        "resnet.layers.pop()\n",
        "\n",
        "# Add a new Dense layer with 1 output unit and sigmoid activation\n",
        "new_output = Dense(1, activation='sigmoid')(resnet.layers[-1].output)\n",
        "resnet = Model(inputs=resnet.input, outputs=new_output)\n",
        "\n",
        "# Recompile the model\n",
        "resnet.compile(optimizer='adam', loss='binary_crossentropy', metrics=['accuracy'])\n",
        "\n",
        "# Check the updated model summary\n",
        "print(resnet.summary())\n"
      ],
      "metadata": {
        "colab": {
          "base_uri": "https://localhost:8080/"
        },
        "id": "b8_2Np4VTnSQ",
        "outputId": "7214c9bc-6401-47eb-c308-9a827267c113"
      },
      "execution_count": 66,
      "outputs": [
        {
          "output_type": "stream",
          "name": "stdout",
          "text": [
            "Model: \"model_1\"\n",
            "_________________________________________________________________\n",
            " Layer (type)                Output Shape              Param #   \n",
            "=================================================================\n",
            " resnet50_input (InputLayer  [(None, None, None, 3)]   0         \n",
            " )                                                               \n",
            "                                                                 \n",
            " resnet50 (Functional)       (None, 2048)              23587712  \n",
            "                                                                 \n",
            " dense (Dense)               (None, 2)                 4098      \n",
            "                                                                 \n",
            " dense_5 (Dense)             (None, 1)                 3         \n",
            "                                                                 \n",
            "=================================================================\n",
            "Total params: 23591813 (90.00 MB)\n",
            "Trainable params: 4101 (16.02 KB)\n",
            "Non-trainable params: 23587712 (89.98 MB)\n",
            "_________________________________________________________________\n",
            "None\n"
          ]
        }
      ]
    },
    {
      "cell_type": "code",
      "source": [
        "resnet.compile(optimizer='adam', loss='binary_crossentropy', metrics=['accuracy'])"
      ],
      "metadata": {
        "id": "0dNu7GK0Tsuh"
      },
      "execution_count": 67,
      "outputs": []
    },
    {
      "cell_type": "code",
      "execution_count": 68,
      "metadata": {
        "id": "UinZvhi17zZC"
      },
      "outputs": [],
      "source": [
        "# Directory of the test dataset\n",
        "test_dir = '/content/concrete_data_week4/concrete_data_week4/test'"
      ]
    },
    {
      "cell_type": "code",
      "execution_count": 69,
      "metadata": {
        "id": "Hg78PS3z7zZC"
      },
      "outputs": [],
      "source": [
        "# Create an instance of ImageDataGenerator with the necessary configurations\n",
        "# Normalize the images to match the preprocessing used in model training\n",
        "test_datagen = ImageDataGenerator(rescale=1./255)"
      ]
    },
    {
      "cell_type": "code",
      "execution_count": 70,
      "metadata": {
        "id": "vCYd5vyE7zZC",
        "colab": {
          "base_uri": "https://localhost:8080/"
        },
        "outputId": "fe75e4a4-7678-4579-ca4a-25aed8cdd1a2"
      },
      "outputs": [
        {
          "output_type": "stream",
          "name": "stdout",
          "text": [
            "Found 500 images belonging to 2 classes.\n"
          ]
        }
      ],
      "source": [
        "# Create a generator that loads the test images from the specified directory\n",
        "test_generator = test_datagen.flow_from_directory(\n",
        "    test_dir,\n",
        "    target_size=(224, 224),  # Standard size for VGG16 and ResNet models\n",
        "    batch_size=20,           # Batch size can be adjusted based on your system's capabilities\n",
        "    class_mode='binary',     # For binary classification problems\n",
        "    shuffle=False)           # Shuffle is set to False for evaluation"
      ]
    },
    {
      "cell_type": "code",
      "source": [
        "# Evaluate performance\n",
        "vgg16_performance = model.evaluate(test_generator, steps=len(test_generator))\n",
        "resnet_performance = resnet.evaluate(test_generator, steps=len(test_generator))"
      ],
      "metadata": {
        "colab": {
          "base_uri": "https://localhost:8080/"
        },
        "id": "O30B4bsoOXDy",
        "outputId": "79c60989-98ce-4712-b7d4-cc8d3e2627ed"
      },
      "execution_count": 71,
      "outputs": [
        {
          "output_type": "stream",
          "name": "stdout",
          "text": [
            "25/25 [==============================] - 1s 36ms/step - loss: 5.1038 - accuracy: 0.5000\n",
            "25/25 [==============================] - 3s 37ms/step - loss: 0.7231 - accuracy: 0.5000\n"
          ]
        }
      ]
    },
    {
      "cell_type": "code",
      "source": [
        "# Print the performance\n",
        "print(\"Performance of the VGG16 model:\")\n",
        "print(\"Loss: {:.4f}, Accuracy: {:.4f}\".format(vgg16_performance[0], vgg16_performance[1]))\n",
        "\n",
        "print(\"Performance of the ResNet model:\")\n",
        "print(\"Loss: {:.4f}, Accuracy: {:.4f}\".format(resnet_performance[0], resnet_performance[1]))\n"
      ],
      "metadata": {
        "colab": {
          "base_uri": "https://localhost:8080/"
        },
        "id": "9R2nzYXfOW5H",
        "outputId": "2001e6c6-b7d7-4d22-cfad-17d59e6f71d9"
      },
      "execution_count": 72,
      "outputs": [
        {
          "output_type": "stream",
          "name": "stdout",
          "text": [
            "Performance of the VGG16 model:\n",
            "Loss: 5.1038, Accuracy: 0.5000\n",
            "Performance of the ResNet model:\n",
            "Loss: 0.7231, Accuracy: 0.5000\n"
          ]
        }
      ]
    },
    {
      "cell_type": "code",
      "source": [
        "from google.colab import files\n",
        "files.download('model')\n"
      ],
      "metadata": {
        "id": "4vAfEpcNXkOR"
      },
      "execution_count": null,
      "outputs": []
    },
    {
      "cell_type": "markdown",
      "metadata": {
        "id": "c9_szAqB7zZC"
      },
      "source": [
        "   "
      ]
    },
    {
      "cell_type": "markdown",
      "metadata": {
        "id": "MZx877To7zZD"
      },
      "source": [
        "<a id=\"item44\"></a>"
      ]
    },
    {
      "cell_type": "markdown",
      "metadata": {
        "id": "SRwtu-f47zZD"
      },
      "source": [
        "## Part 3"
      ]
    },
    {
      "cell_type": "markdown",
      "metadata": {
        "id": "myF-tGXx7zZD"
      },
      "source": [
        "In this model, you will predict whether the images in the test data are images of cracked concrete or not. You will do the following:\n",
        "\n",
        "1. Use the **predict_generator** method to predict the class of the images in the test data, by passing the test data ImageDataGenerator instance defined in the previous part as an argument. You can learn more about the **predict_generator** method [here](https://keras.io/models/sequential/).\n",
        "2. Report the class predictions of the first five images in the test set. You should print something list this:\n",
        "\n",
        "<center>\n",
        "    <ul style=\"list-style-type:none\">\n",
        "        <li>Positive</li>  \n",
        "        <li>Negative</li>\n",
        "        <li>Positive</li>\n",
        "        <li>Positive</li>\n",
        "        <li>Negative</li>\n",
        "    </ul>\n",
        "</center>"
      ]
    },
    {
      "cell_type": "markdown",
      "metadata": {
        "id": "zz9jDIYC7zZD"
      },
      "source": [
        "Use the following cells to make your predictions."
      ]
    },
    {
      "cell_type": "code",
      "execution_count": 73,
      "metadata": {
        "id": "m7Rkz2Gt7zZD",
        "colab": {
          "base_uri": "https://localhost:8080/"
        },
        "outputId": "31be26a3-180c-438b-eba4-9e34fef51891"
      },
      "outputs": [
        {
          "output_type": "stream",
          "name": "stdout",
          "text": [
            "25/25 [==============================] - 1s 40ms/step\n",
            "25/25 [==============================] - 2s 33ms/step\n"
          ]
        }
      ],
      "source": [
        "# predict classes\n",
        "\n",
        "from keras.preprocessing.image import ImageDataGenerator\n",
        "\n",
        "# Assuming you've already defined 'test_datagen' and 'test_generator' previously\n",
        "# Predict the probabilities or class labels\n",
        "predictions_vgg16 = model.predict(test_generator, steps=len(test_generator))\n",
        "predictions_resnet = resnet.predict(test_generator, steps=len(test_generator))\n",
        "\n",
        "# Since it's a binary classification, you may receive probabilities. To get class labels:\n",
        "predicted_classes_vgg16 = (predictions_vgg16 > 0.5).astype(int)\n",
        "predicted_classes_resnet = (predictions_resnet > 0.5).astype(int)\n"
      ]
    },
    {
      "cell_type": "code",
      "execution_count": 74,
      "metadata": {
        "id": "GwVfnQ-M7zZD",
        "colab": {
          "base_uri": "https://localhost:8080/"
        },
        "outputId": "5c291660-1625-44ff-ed5d-bd11f37e91b1"
      },
      "outputs": [
        {
          "output_type": "stream",
          "name": "stdout",
          "text": [
            "First five predictions by the VGG16 model:\n",
            "['negative', 'negative', 'negative', 'negative', 'negative']\n",
            "First five predictions by the ResNet model:\n",
            "['positive', 'positive', 'positive', 'positive', 'positive']\n"
          ]
        }
      ],
      "source": [
        "# Print the predictions for the first five images with 'negative' for 0 and 'positive' for 1\n",
        "print(\"First five predictions by the VGG16 model:\")\n",
        "print(['positive' if x == 1 else 'negative' for x in predicted_classes_vgg16[:5].flatten()])\n",
        "\n",
        "print(\"First five predictions by the ResNet model:\")\n",
        "print(['positive' if x == 1 else 'negative' for x in predicted_classes_resnet[:5].flatten()])\n"
      ]
    },
    {
      "cell_type": "markdown",
      "metadata": {
        "id": "mV0vQRMq7zZE"
      },
      "source": [
        "  "
      ]
    },
    {
      "cell_type": "markdown",
      "metadata": {
        "id": "yQ1C7xc97zZE"
      },
      "source": [
        "### Thank you for completing this lab!\n",
        "\n",
        "This notebook was created by Alex Aklson."
      ]
    },
    {
      "cell_type": "markdown",
      "metadata": {
        "id": "F-Mw0Wj87zZE"
      },
      "source": [
        "This notebook is part of a course on **Coursera** called *AI Capstone Project with Deep Learning*. If you accessed this notebook outside the course, you can take this course online by clicking [here](https://cocl.us/DL0321EN_Coursera_Week4_LAB1)."
      ]
    },
    {
      "cell_type": "markdown",
      "metadata": {
        "id": "59ALE-787zZE"
      },
      "source": [
        "<hr>\n",
        "\n",
        "Copyright &copy; 2020 [IBM Developer Skills Network](https://cognitiveclass.ai/?utm_source=bducopyrightlink&utm_medium=dswb&utm_campaign=bdu). This notebook and its source code are released under the terms of the [MIT License](https://bigdatauniversity.com/mit-license/)."
      ]
    }
  ],
  "metadata": {
    "colab": {
      "provenance": [],
      "gpuType": "V100"
    },
    "kernelspec": {
      "display_name": "Python 3",
      "name": "python3"
    },
    "language_info": {
      "name": "python"
    },
    "accelerator": "GPU"
  },
  "nbformat": 4,
  "nbformat_minor": 0
}